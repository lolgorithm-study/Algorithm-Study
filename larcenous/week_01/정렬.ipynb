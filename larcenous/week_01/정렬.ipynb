{
 "cells": [
  {
   "cell_type": "markdown",
   "metadata": {},
   "source": [
    "### #1026 보물 \n",
    "* https://www.acmicpc.net/problem/1026"
   ]
  },
  {
   "cell_type": "code",
   "execution_count": 3,
   "metadata": {},
   "outputs": [
    {
     "name": "stdout",
     "output_type": "stream",
     "text": [
      "18\n"
     ]
    }
   ],
   "source": [
    "import sys\n",
    "input = sys.stdin.readline\n",
    "\n",
    "N = int(input().rstrip())\n",
    "A = list(map(int,input().split()))\n",
    "B = list(map(int,input().split()))\n",
    "A.sort(reverse=True)\n",
    "B.sort()\n",
    "result = sum([a*b for a,b in zip(A,B)])\n",
    "print(result)"
   ]
  },
  {
   "cell_type": "markdown",
   "metadata": {},
   "source": [
    "### #2309 일곱 난쟁이\n",
    "* https://www.acmicpc.net/problem/2309"
   ]
  },
  {
   "cell_type": "code",
   "execution_count": 8,
   "metadata": {},
   "outputs": [
    {
     "name": "stdout",
     "output_type": "stream",
     "text": [
      "7\n",
      "8\n",
      "10\n",
      "13\n",
      "19\n",
      "20\n",
      "23\n"
     ]
    }
   ],
   "source": [
    "li = sorted([int(input()) for _ in range(9)])\n",
    "sum_li = sum(li)\n",
    "for i in range(8) : #0~7번째 (8개)\n",
    "    for j in range(i+1,9) :\n",
    "        a,b = li[i],li[j]\n",
    "        #반복문을 통해 2개의 키를 선택 후 삭제해가며 100이 되는 경우 반환\n",
    "        if sum_li-a-b == 100 : \n",
    "            li.remove(a)\n",
    "            li.remove(b)\n",
    "            break\n",
    "    if sum(li) == 100 :\n",
    "        break\n",
    "for num in li :\n",
    "    print(num)"
   ]
  },
  {
   "cell_type": "markdown",
   "metadata": {},
   "source": [
    "### #2693 N번째 큰 수\n",
    "* https://www.acmicpc.net/problem/2693"
   ]
  },
  {
   "cell_type": "code",
   "execution_count": null,
   "metadata": {},
   "outputs": [],
   "source": [
    "#숏코딩\n",
    "for _ in range(int(input())):print(sorted(input().split(),key=int,reverse=1)[2])"
   ]
  },
  {
   "cell_type": "code",
   "execution_count": null,
   "metadata": {},
   "outputs": [],
   "source": [
    "for _ in range(int(input())):\n",
    "    print(sorted(input().split(),key=int,reverse=True)[2])\n",
    "    #받은 str 입력을 int함수를 적용한 상태에서 내림차순으로 정렬하고 3번째 큰 수를 출력"
   ]
  },
  {
   "cell_type": "markdown",
   "metadata": {},
   "source": [
    "### #2752 세수정렬\n",
    "* https://www.acmicpc.net/problem/2752"
   ]
  },
  {
   "cell_type": "code",
   "execution_count": null,
   "metadata": {},
   "outputs": [],
   "source": [
    "print(' '.join(map(str,sorted(list(map(int,input().split()))))))"
   ]
  },
  {
   "cell_type": "code",
   "execution_count": null,
   "metadata": {},
   "outputs": [],
   "source": [
    "num = list(map(int,input().split()))\n",
    "print(' '.join(map(str,sorted(num)))) \n",
    "'''\n",
    "num list를 오름차순 정렬한 뒤, ' '.join을 통해 공백을 넣어서 삽입\n",
    "이후에 출력\n",
    "'''"
   ]
  },
  {
   "cell_type": "markdown",
   "metadata": {},
   "source": [
    "### #5800 성적 통계\n",
    "* https://www.acmicpc.net/problem/5800"
   ]
  },
  {
   "cell_type": "code",
   "execution_count": 16,
   "metadata": {},
   "outputs": [
    {
     "name": "stdout",
     "output_type": "stream",
     "text": [
      "Class 1\n",
      "Max 78, Min 23, Largest gap 46\n",
      "Class 2\n",
      "Max 99, Min 25, Largest gap 25\n"
     ]
    }
   ],
   "source": [
    "import sys\n",
    "K = int(input())\n",
    "Class = 1\n",
    "for _ in range(K) :\n",
    "    N,*li = map(int,input().split())\n",
    "    print('Class', Class)\n",
    "    li.sort(reverse=True)\n",
    "    largest = -sys.maxsize #최댓값으로 설정 2147483647\n",
    "    for i in range(N-1):\n",
    "        largest = max(largest, li[i]-li[i+1]) #비교해가며 최대 차이(largest gap)을 갱신\n",
    "    print(f'Max {li[0]}, Min {li[-1]}, Largest gap {largest}')\n",
    "    Class += 1"
   ]
  },
  {
   "cell_type": "markdown",
   "metadata": {},
   "source": [
    "### #10817 세 수\n",
    "* https://www.acmicpc.net/problem/10817"
   ]
  },
  {
   "cell_type": "code",
   "execution_count": 19,
   "metadata": {},
   "outputs": [
    {
     "name": "stdout",
     "output_type": "stream",
     "text": [
      "40\n"
     ]
    }
   ],
   "source": [
    "print(sorted(input().split(),key=int)[1])"
   ]
  },
  {
   "cell_type": "markdown",
   "metadata": {},
   "source": [
    "### #10825 국영수\n",
    "* https://www.acmicpc.net/problem/10825"
   ]
  },
  {
   "cell_type": "code",
   "execution_count": 22,
   "metadata": {},
   "outputs": [
    {
     "name": "stdout",
     "output_type": "stream",
     "text": [
      "Donghyuk\n",
      "Sangkeun\n",
      "Sunyoung\n",
      "nsj\n",
      "Wonseob\n",
      "Sanghyun\n",
      "Sei\n",
      "Kangsoo\n",
      "Haebin\n",
      "Junkyu\n",
      "Soong\n",
      "Taewhan\n"
     ]
    }
   ],
   "source": [
    "N = int(input())\n",
    "li = []\n",
    "for _ in range(N) :\n",
    "    li.append(input().split())\n",
    "li.sort(key=lambda x : (-int(x[1]),int(x[2]),-int(x[3]),x[0])) \n",
    "#lambda 함수를 통해 정렬 기준을 설정\n",
    "'''\n",
    "1. x의 2번째 원소를 내림차순\n",
    "2. x의 3번째 원소를 오름차순\n",
    "3. x의 4번째 원소를 내림차순\n",
    "4. x의 0번째 원소(이름)을 오름차순 (아스키 코드로 오름차순 정렬)\n",
    "    대문자가 소문자보다 아스키 코드가 작다\n",
    "'''\n",
    "for i in range(N) :\n",
    "    print(li[i][0])"
   ]
  },
  {
   "cell_type": "markdown",
   "metadata": {},
   "source": [
    "### #10867 중복 빼고 정렬하기\n",
    "* https://www.acmicpc.net/problem/10867"
   ]
  },
  {
   "cell_type": "code",
   "execution_count": 27,
   "metadata": {},
   "outputs": [
    {
     "name": "stdout",
     "output_type": "stream",
     "text": [
      "1 2 3 4\n"
     ]
    }
   ],
   "source": [
    "N = input()\n",
    "print(*sorted(list(set(list(map(int,input().split()))))))\n",
    "# 집합 set 활용하여 중복원소 제거후 다시 list로 변환"
   ]
  },
  {
   "cell_type": "markdown",
   "metadata": {},
   "source": [
    "### #11656 접미사 배열\n",
    "* https://www.acmicpc.net/problem/11656"
   ]
  },
  {
   "cell_type": "code",
   "execution_count": 29,
   "metadata": {},
   "outputs": [
    {
     "name": "stdout",
     "output_type": "stream",
     "text": [
      "aekjoon\n",
      "baekjoon\n",
      "ekjoon\n",
      "joon\n",
      "kjoon\n",
      "n\n",
      "on\n",
      "oon\n"
     ]
    }
   ],
   "source": [
    "S = input()\n",
    "print(*sorted([S[i:] for i in range(len(S))]),sep='\\n')\n",
    "#파이썬 인덱스 슬라이싱을 통해 앞부터 지워가며 문자열을 만들고, 문자열에 대해 정렬을 진행\n",
    "#*을 통해 list unpacking을 하고, sep 인자로 \\n을 지정하여 줄을 바꾸며 출력"
   ]
  },
  {
   "cell_type": "markdown",
   "metadata": {},
   "source": [
    "### #11931 수 정렬하기 4\n",
    "* https://www.acmicpc.net/problem/11931"
   ]
  },
  {
   "cell_type": "code",
   "execution_count": 30,
   "metadata": {},
   "outputs": [
    {
     "name": "stdout",
     "output_type": "stream",
     "text": [
      "5\n",
      "4\n",
      "3\n",
      "2\n",
      "1\n"
     ]
    }
   ],
   "source": [
    "import sys\n",
    "input = sys.stdin.readline\n",
    "N = int(input().rstrip())\n",
    "print(*sorted([int(input().rstrip()) for _ in range(N)],reverse=True),sep='\\n')"
   ]
  }
 ],
 "metadata": {
  "kernelspec": {
   "display_name": "py310",
   "language": "python",
   "name": "python3"
  },
  "language_info": {
   "codemirror_mode": {
    "name": "ipython",
    "version": 3
   },
   "file_extension": ".py",
   "mimetype": "text/x-python",
   "name": "python",
   "nbconvert_exporter": "python",
   "pygments_lexer": "ipython3",
   "version": "3.10.11"
  }
 },
 "nbformat": 4,
 "nbformat_minor": 2
}
